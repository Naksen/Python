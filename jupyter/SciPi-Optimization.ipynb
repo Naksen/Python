{
 "cells": [
  {
   "cell_type": "markdown",
   "id": "f90953a3",
   "metadata": {},
   "source": [
    "# Решение оптимизационных задач в SciPy"
   ]
  },
  {
   "cell_type": "code",
   "execution_count": 1,
   "id": "3777ad93",
   "metadata": {},
   "outputs": [],
   "source": [
    "from scipy import optimize"
   ]
  },
  {
   "cell_type": "code",
   "execution_count": 3,
   "id": "f87ed4ac",
   "metadata": {},
   "outputs": [
    {
     "name": "stdout",
     "output_type": "stream",
     "text": [
      "0.0\n"
     ]
    }
   ],
   "source": [
    "def f(x): # The rosenbrock function\n",
    "    return .5*(1 - x[0])**2 +(x[1] - x[0]**2)**2\n",
    "\n",
    "print(f([1, 1]))"
   ]
  },
  {
   "cell_type": "code",
   "execution_count": 4,
   "id": "67bb924c",
   "metadata": {},
   "outputs": [
    {
     "name": "stdout",
     "output_type": "stream",
     "text": [
      "[0.99999324 1.00001283]\n"
     ]
    }
   ],
   "source": [
    "result = optimize.brute(f, ((-5, 5), (-5, 5))) # Перебор\n",
    "print(result)"
   ]
  },
  {
   "cell_type": "code",
   "execution_count": 5,
   "id": "bf3d8a82",
   "metadata": {},
   "outputs": [
    {
     "name": "stdout",
     "output_type": "stream",
     "text": [
      "     fun: 7.395570986446986e-32\n",
      " message: 'Optimization terminated successfully.'\n",
      "    nfev: 3693\n",
      "     nit: 122\n",
      " success: True\n",
      "       x: array([1., 1.])\n"
     ]
    }
   ],
   "source": [
    "print(optimize.differential_evolution(f, ((-5,5), (-5,5)))) # Дифференциальная эволюция"
   ]
  },
  {
   "cell_type": "code",
   "execution_count": 6,
   "id": "ca4b1ca9",
   "metadata": {},
   "outputs": [],
   "source": [
    "import numpy as np\n",
    "\n",
    "def g(x): # Градиает функции Розенброка\n",
    "    return np.array((-2*.5*(1 - x[0]) - 4*x[0]*(x[1] - x[0]**2), 2*(x[1] - x[0]**2)))"
   ]
  },
  {
   "cell_type": "code",
   "execution_count": 8,
   "id": "215ee75f",
   "metadata": {},
   "outputs": [
    {
     "name": "stdout",
     "output_type": "stream",
     "text": [
      "2.384185791015625e-07\n"
     ]
    }
   ],
   "source": [
    "print(optimize.check_grad(f, g, [2, 2])) # Проверка градиента, разнциа небольшая -> градиент найден верно"
   ]
  },
  {
   "cell_type": "code",
   "execution_count": 10,
   "id": "ad21af93",
   "metadata": {},
   "outputs": [
    {
     "name": "stdout",
     "output_type": "stream",
     "text": [
      "Optimization terminated successfully.\n",
      "         Current function value: 0.000000\n",
      "         Iterations: 8\n",
      "         Function evaluations: 9\n",
      "         Gradient evaluations: 9\n",
      "[1.00000582 1.00001285]\n"
     ]
    }
   ],
   "source": [
    "print(optimize.fmin_bfgs(f, [2, 2], fprime=g)) # Один из градиентных методов"
   ]
  },
  {
   "cell_type": "code",
   "execution_count": 11,
   "id": "0870c1e5",
   "metadata": {},
   "outputs": [
    {
     "name": "stdout",
     "output_type": "stream",
     "text": [
      "      fun: 1.7838045907468558e-11\n",
      " hess_inv: array([[0.95489061, 1.90006632],\n",
      "       [1.90006632, 4.27872378]])\n",
      "      jac: array([9.88093227e-07, 2.41749084e-06])\n",
      "  message: 'Optimization terminated successfully.'\n",
      "     nfev: 27\n",
      "      nit: 8\n",
      "     njev: 9\n",
      "   status: 0\n",
      "  success: True\n",
      "        x: array([1.00000573, 1.00001265])\n"
     ]
    }
   ],
   "source": [
    "print(optimize.minimize(f, [2, 2])) # Сама определяет метод минимизации"
   ]
  },
  {
   "cell_type": "code",
   "execution_count": 12,
   "id": "7572020f",
   "metadata": {},
   "outputs": [
    {
     "name": "stdout",
     "output_type": "stream",
     "text": [
      "      fun: 1.8414093407262628e-11\n",
      " hess_inv: array([[0.95489113, 1.90006768],\n",
      "       [1.90006768, 4.27872719]])\n",
      "      jac: array([9.88085521e-07, 2.41739812e-06])\n",
      "  message: 'Optimization terminated successfully.'\n",
      "     nfev: 9\n",
      "      nit: 8\n",
      "     njev: 9\n",
      "   status: 0\n",
      "  success: True\n",
      "        x: array([1.00000582, 1.00001285])\n"
     ]
    }
   ],
   "source": [
    "print(optimize.minimize(f, [2, 2], method='BFGS', jac=g))"
   ]
  },
  {
   "cell_type": "code",
   "execution_count": 13,
   "id": "44c9ba1f",
   "metadata": {},
   "outputs": [
    {
     "name": "stdout",
     "output_type": "stream",
     "text": [
      " final_simplex: (array([[0.99998568, 0.99996682],\n",
      "       [1.00002149, 1.00004744],\n",
      "       [1.0000088 , 1.00003552]]), array([1.23119954e-10, 2.50768082e-10, 3.59639951e-10]))\n",
      "           fun: 1.2311995365407462e-10\n",
      "       message: 'Optimization terminated successfully.'\n",
      "          nfev: 91\n",
      "           nit: 46\n",
      "        status: 0\n",
      "       success: True\n",
      "             x: array([0.99998568, 0.99996682])\n"
     ]
    }
   ],
   "source": [
    "print(optimize.minimize(f, [2, 2], method='Nelder-Mead'))"
   ]
  }
 ],
 "metadata": {
  "kernelspec": {
   "display_name": "Python 3 (ipykernel)",
   "language": "python",
   "name": "python3"
  },
  "language_info": {
   "codemirror_mode": {
    "name": "ipython",
    "version": 3
   },
   "file_extension": ".py",
   "mimetype": "text/x-python",
   "name": "python",
   "nbconvert_exporter": "python",
   "pygments_lexer": "ipython3",
   "version": "3.9.7"
  }
 },
 "nbformat": 4,
 "nbformat_minor": 5
}
