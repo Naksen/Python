{
 "cells": [
  {
   "cell_type": "markdown",
   "id": "e675f745-e4eb-4125-86be-e27855a1c16d",
   "metadata": {},
   "source": [
    "### Задание 1"
   ]
  },
  {
   "cell_type": "code",
   "execution_count": 31,
   "id": "4e880e6a-d0d0-4883-8919-9530e36e7141",
   "metadata": {},
   "outputs": [],
   "source": [
    "from sklearn import datasets, model_selection, ensemble\n",
    "from sklearn.metrics.pairwise import euclidean_distances\n",
    "from sklearn.metrics import accuracy_score\n",
    "import numpy as np"
   ]
  },
  {
   "cell_type": "code",
   "execution_count": 12,
   "id": "65a97cb5-b062-488b-b36c-d47795419303",
   "metadata": {},
   "outputs": [],
   "source": [
    "digits = datasets.load_digits()\n",
    "\n",
    "X_train, X_test, y_train, y_test = model_selection.train_test_split(digits.data, digits.target, test_size=0.25, shuffle=False)"
   ]
  },
  {
   "cell_type": "code",
   "execution_count": 23,
   "id": "a0c536c5-b226-4db4-b1da-137e37b76a9e",
   "metadata": {},
   "outputs": [],
   "source": [
    "def NN(X_test, X_train, y_train):\n",
    "    predictions = []\n",
    "    for x in X_test:\n",
    "        distances = []\n",
    "        for x_train in X_train:\n",
    "            distances.append(np.linalg.norm(x-x_train))\n",
    "        np_distances = np.array(distances)\n",
    "        pred_id = np.argmin(np_distances)\n",
    "        predictions.append(y_train[pred_id])\n",
    "    return np.array(predictions)\n",
    "\n",
    "predictions = NN(X_test, X_train, y_train)"
   ]
  },
  {
   "cell_type": "code",
   "execution_count": 24,
   "id": "35eecf09-f952-4a59-b5c2-0d82cd172784",
   "metadata": {},
   "outputs": [
    {
     "data": {
      "text/plain": [
       "array([3, 7, 3, 3, 4])"
      ]
     },
     "execution_count": 24,
     "metadata": {},
     "output_type": "execute_result"
    }
   ],
   "source": [
    "predictions[:5]"
   ]
  },
  {
   "cell_type": "code",
   "execution_count": 25,
   "id": "d30fbd57-e6aa-4885-9b00-7fafd733dcc2",
   "metadata": {},
   "outputs": [
    {
     "data": {
      "text/plain": [
       "array([3, 7, 3, 3, 4])"
      ]
     },
     "execution_count": 25,
     "metadata": {},
     "output_type": "execute_result"
    }
   ],
   "source": [
    "y_test[:5]"
   ]
  },
  {
   "cell_type": "code",
   "execution_count": 29,
   "id": "88befa62-5c13-48fb-a9d7-84fca1a1c702",
   "metadata": {},
   "outputs": [],
   "source": [
    "score = accuracy_score(y_test, predictions)"
   ]
  },
  {
   "cell_type": "code",
   "execution_count": 33,
   "id": "e93f91bc-b752-44d7-9602-4f8dee0a35b7",
   "metadata": {},
   "outputs": [
    {
     "name": "stdout",
     "output_type": "stream",
     "text": [
      "0.0377777777777778\n"
     ]
    }
   ],
   "source": [
    "print(1 - score)"
   ]
  },
  {
   "cell_type": "markdown",
   "id": "13a9afaa-fdb6-43cc-84b9-de49cbc78388",
   "metadata": {},
   "source": [
    "### Задание 2"
   ]
  },
  {
   "cell_type": "code",
   "execution_count": 34,
   "id": "a86b203d-6692-4a12-ba3f-abfe8103c8ca",
   "metadata": {},
   "outputs": [
    {
     "name": "stdout",
     "output_type": "stream",
     "text": [
      "0.06666666666666665\n"
     ]
    }
   ],
   "source": [
    "random_forest = ensemble.RandomForestClassifier(n_estimators=1000)\n",
    "random_forest.fit(X_train, y_train)\n",
    "\n",
    "forest_predictions = random_forest.predict(X_test)\n",
    "forest_score = accuracy_score(y_test, forest_predictions)\n",
    "\n",
    "print(1 - forest_score)"
   ]
  }
 ],
 "metadata": {
  "kernelspec": {
   "display_name": "Python 3 (ipykernel)",
   "language": "python",
   "name": "python3"
  },
  "language_info": {
   "codemirror_mode": {
    "name": "ipython",
    "version": 3
   },
   "file_extension": ".py",
   "mimetype": "text/x-python",
   "name": "python",
   "nbconvert_exporter": "python",
   "pygments_lexer": "ipython3",
   "version": "3.9.7"
  }
 },
 "nbformat": 4,
 "nbformat_minor": 5
}
