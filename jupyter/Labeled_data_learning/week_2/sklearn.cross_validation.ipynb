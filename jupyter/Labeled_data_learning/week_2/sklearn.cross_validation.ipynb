{
 "cells": [
  {
   "cell_type": "markdown",
   "id": "fe939744-cc7b-4fec-8583-a15bffdb6f11",
   "metadata": {},
   "source": [
    "# Sklearn"
   ]
  },
  {
   "cell_type": "markdown",
   "id": "0d616bbd-faf1-492d-b45b-9538775c8f45",
   "metadata": {
    "tags": []
   },
   "source": [
    "## sklearn.model_selection"
   ]
  },
  {
   "cell_type": "markdown",
   "id": "284c425f-d4ba-49b5-8f33-1be2aae1c7d0",
   "metadata": {},
   "source": [
    "документация: http://scikit-learn.org/stable/modules/cross_validation.html"
   ]
  },
  {
   "cell_type": "code",
   "execution_count": 1,
   "id": "84bc6365-168a-41ed-82e8-3c33a4ecd1c8",
   "metadata": {},
   "outputs": [],
   "source": [
    "from sklearn import model_selection, datasets\n",
    "\n",
    "import numpy as np"
   ]
  },
  {
   "cell_type": "markdown",
   "id": "18d70bf5-e821-4bc4-b181-36cde0732043",
   "metadata": {},
   "source": [
    "### Разовое разбиение данных на обучение и тест с помощью train_test_split"
   ]
  },
  {
   "cell_type": "code",
   "execution_count": 2,
   "id": "330a7546-3fc3-402c-8255-8495efcb863f",
   "metadata": {},
   "outputs": [],
   "source": [
    "iris = datasets.load_iris()"
   ]
  },
  {
   "cell_type": "code",
   "execution_count": 3,
   "id": "1edd0322-7015-41b1-b00b-d3847708192a",
   "metadata": {},
   "outputs": [],
   "source": [
    "train_data, test_data, train_labels, test_labels = \\\n",
    "    model_selection.train_test_split(iris.data, iris. target, test_size=0.3)"
   ]
  },
  {
   "cell_type": "code",
   "execution_count": 4,
   "id": "5e99f4e0-e61a-46b9-b213-d6f7c695e211",
   "metadata": {},
   "outputs": [
    {
     "data": {
      "text/plain": [
       "0.3"
      ]
     },
     "execution_count": 4,
     "metadata": {},
     "output_type": "execute_result"
    }
   ],
   "source": [
    "# убедимся, что тестовая выборка действительно составляет 0.3 от всех данных\n",
    "float(len(test_labels))/len(iris.data)"
   ]
  },
  {
   "cell_type": "code",
   "execution_count": 5,
   "id": "2aaca7fe-1f89-49f5-8e4f-8922e6819d46",
   "metadata": {},
   "outputs": [
    {
     "name": "stdout",
     "output_type": "stream",
     "text": [
      "Размер обучающей выборки: 105 объектов \n",
      "Размер тестовой выборки: 45 объектов\n"
     ]
    }
   ],
   "source": [
    "print('Размер обучающей выборки: {} объектов \\nРазмер тестовой выборки: {} объектов'.format(len(train_data),\n",
    "                                                                                            len(test_data)))"
   ]
  },
  {
   "cell_type": "code",
   "execution_count": 6,
   "id": "f84f4bbf-638b-4c70-8991-5f22a3a77b39",
   "metadata": {},
   "outputs": [
    {
     "name": "stdout",
     "output_type": "stream",
     "text": [
      "Обучающая выборка:\n",
      " [[6.  3.4 4.5 1.6]\n",
      " [6.1 2.9 4.7 1.4]\n",
      " [6.3 3.4 5.6 2.4]\n",
      " [4.6 3.4 1.4 0.3]\n",
      " [6.5 3.  5.2 2. ]]\n",
      "\n",
      "\n",
      "Тестовая выборка:\n",
      " [[5.  3.2 1.2 0.2]\n",
      " [7.4 2.8 6.1 1.9]\n",
      " [4.6 3.1 1.5 0.2]\n",
      " [5.1 3.8 1.6 0.2]\n",
      " [7.7 3.8 6.7 2.2]]\n"
     ]
    }
   ],
   "source": [
    "print('Обучающая выборка:\\n', train_data[:5])\n",
    "print('\\n')\n",
    "print('Тестовая выборка:\\n', test_data[:5])"
   ]
  },
  {
   "cell_type": "code",
   "execution_count": 7,
   "id": "548d8883-2bb4-436a-8492-48faf7cf11f7",
   "metadata": {},
   "outputs": [
    {
     "name": "stdout",
     "output_type": "stream",
     "text": [
      "Метки классов на обучающей выборке:\n",
      " [1 1 2 0 2 1 2 1 2 1 1 0 1 2 1 1 2 2 2 0 1 2 2 0 0 0 2 2 0 1 2 2 0 0 2 2 0\n",
      " 2 0 0 1 0 0 1 1 2 1 1 1 0 0 0 2 0 2 0 0 1 1 0 2 1 1 1 1 0 1 2 2 0 0 2 2 1\n",
      " 2 2 0 0 2 0 0 0 2 2 1 2 0 1 0 2 0 1 1 1 0 2 1 1 2 2 0 0 1 0 2]\n",
      "\n",
      "\n",
      "Метки классов на тестовой выборке:\n",
      " [0 2 0 0 2 1 0 1 2 0 2 1 1 1 1 2 2 1 1 0 2 1 0 1 0 2 2 0 0 1 1 1 0 0 1 2 2\n",
      " 1 0 1 2 2 2 1 0]\n"
     ]
    }
   ],
   "source": [
    "print('Метки классов на обучающей выборке:\\n', train_labels)\n",
    "print('\\n')\n",
    "print('Метки классов на тестовой выборке:\\n', test_labels)"
   ]
  },
  {
   "cell_type": "markdown",
   "id": "b09860b4-338d-49a4-810a-0c079b5ef494",
   "metadata": {},
   "source": [
    "### Стратегии проведения кросс-валидации"
   ]
  },
  {
   "cell_type": "code",
   "execution_count": 8,
   "id": "ab29fa4b-0f18-4b8c-b0d3-4081d682a74c",
   "metadata": {},
   "outputs": [],
   "source": [
    "# сгенерируем короткое подобие датасета, где элементы совпадают с порядковым номером\n",
    "X = range(0, 10)"
   ]
  },
  {
   "cell_type": "markdown",
   "id": "ba7d48b2-0630-46cb-a4ac-1226b9b60c2a",
   "metadata": {},
   "source": [
    "#### KFold"
   ]
  },
  {
   "cell_type": "code",
   "execution_count": 9,
   "id": "7b4c6b9f-0c35-409f-91c9-72baace75bb1",
   "metadata": {},
   "outputs": [
    {
     "name": "stdout",
     "output_type": "stream",
     "text": [
      "[2 3 4 5 6 7 8 9] [0 1]\n",
      "[0 1 4 5 6 7 8 9] [2 3]\n",
      "[0 1 2 3 6 7 8 9] [4 5]\n",
      "[0 1 2 3 4 5 8 9] [6 7]\n",
      "[0 1 2 3 4 5 6 7] [8 9]\n"
     ]
    }
   ],
   "source": [
    "kf = model_selection.KFold(n_splits=5)\n",
    "for train_indicies, test_indices in kf.split(X):\n",
    "    print(train_indicies, test_indices)"
   ]
  },
  {
   "cell_type": "code",
   "execution_count": 10,
   "id": "84856383-9b92-467d-a1f6-bbb375cead17",
   "metadata": {},
   "outputs": [
    {
     "name": "stdout",
     "output_type": "stream",
     "text": [
      "[1 2 3 5 6] [0 4 7 8 9]\n",
      "[0 4 7 8 9] [1 2 3 5 6]\n"
     ]
    }
   ],
   "source": [
    "kf = model_selection.KFold(n_splits=2, shuffle=True)\n",
    "for train_indicies, test_indices in kf.split(X):\n",
    "    print(train_indicies, test_indices)"
   ]
  },
  {
   "cell_type": "code",
   "execution_count": 11,
   "id": "2bbb9f81-ede9-4813-834e-ccc5817fd9bc",
   "metadata": {},
   "outputs": [
    {
     "name": "stdout",
     "output_type": "stream",
     "text": [
      "[1 3 5 7 8] [0 2 4 6 9]\n",
      "[0 2 4 6 9] [1 3 5 7 8]\n"
     ]
    }
   ],
   "source": [
    "kf = model_selection.KFold(n_splits=2, shuffle=True, random_state=1)\n",
    "for train_indicies, test_indices in kf.split(X):\n",
    "    print(train_indicies, test_indices)"
   ]
  },
  {
   "cell_type": "markdown",
   "id": "d4b37c02-8a2b-410a-a62a-5c658e4b8a1e",
   "metadata": {
    "tags": []
   },
   "source": [
    "#### StratifieldKFold"
   ]
  },
  {
   "cell_type": "code",
   "execution_count": 12,
   "id": "958bff49-abf6-4a24-bca7-e9b19f609045",
   "metadata": {},
   "outputs": [
    {
     "name": "stdout",
     "output_type": "stream",
     "text": [
      "[0 0 0 0 0 1 1 1 1 1]\n",
      "[3 4 6 8 9] [0 1 2 5 7]\n",
      "[0 1 2 5 7] [3 4 6 8 9]\n"
     ]
    }
   ],
   "source": [
    "y = np.array([0] * 5 + [1] * 5)\n",
    "print(y)\n",
    "\n",
    "skf = model_selection.StratifiedKFold(n_splits=2, shuffle=True, random_state=0)\n",
    "for train_indices, test_indices in skf.split(X, y):\n",
    "    print(train_indices, test_indices)"
   ]
  },
  {
   "cell_type": "code",
   "execution_count": 13,
   "id": "acb3c33f-14d9-4ead-b0b9-1aa946c3f09b",
   "metadata": {},
   "outputs": [
    {
     "name": "stdout",
     "output_type": "stream",
     "text": [
      "[0 1 0 1 0 1 0 1 0 1]\n",
      "[1 0 0 1 1] [0 1 0 0 1]\n",
      "[0 1 0 0 1] [1 0 0 1 1]\n"
     ]
    }
   ],
   "source": [
    "target = np.array([0, 1] * 5)\n",
    "print(target)\n",
    "\n",
    "sss = model_selection.StratifiedKFold(n_splits=2, shuffle=True)\n",
    "for train_indices, test_indices in sss.split(X, target):\n",
    "    print(target[train_indices], target[test_indices])"
   ]
  },
  {
   "cell_type": "markdown",
   "id": "2f17b492-7886-4d86-ae13-016ebecfb474",
   "metadata": {},
   "source": [
    "#### ShuffleSplit"
   ]
  },
  {
   "cell_type": "code",
   "execution_count": 14,
   "id": "7ebeec04-bee3-438f-a561-9414f3b97161",
   "metadata": {},
   "outputs": [
    {
     "name": "stdout",
     "output_type": "stream",
     "text": [
      "[8 9 2 1 6 0 7 3] [5 4]\n",
      "[8 0 6 7 2 5 9 1] [4 3]\n",
      "[5 2 7 8 4 6 3 9] [0 1]\n",
      "[1 2 7 0 4 3 8 5] [6 9]\n",
      "[0 3 6 9 1 4 2 5] [8 7]\n",
      "[4 8 6 5 3 9 1 7] [2 0]\n",
      "[7 4 9 2 3 1 0 6] [8 5]\n",
      "[1 4 5 7 3 9 6 2] [0 8]\n",
      "[3 7 5 0 1 6 4 8] [2 9]\n",
      "[4 2 9 3 1 5 0 8] [6 7]\n"
     ]
    }
   ],
   "source": [
    "ss = model_selection.ShuffleSplit(n_splits=10, test_size=0.2)\n",
    "\n",
    "for train_indices, test_indices in ss.split(X):\n",
    "    print(train_indices, test_indices)"
   ]
  },
  {
   "cell_type": "markdown",
   "id": "9a30d2d1-4ad8-4606-850a-f675530a5293",
   "metadata": {
    "tags": []
   },
   "source": [
    "#### StratifiedShuffleSplit"
   ]
  },
  {
   "cell_type": "code",
   "execution_count": 15,
   "id": "dd6e6f04-5a52-473d-aa1a-7d46a5f30da6",
   "metadata": {},
   "outputs": [
    {
     "name": "stdout",
     "output_type": "stream",
     "text": [
      "[0 0 0 0 0 1 1 1 1 1]\n",
      "[9 1 2 6 5 7 4 0] [3 8]\n",
      "[5 6 7 4 3 1 8 0] [2 9]\n",
      "[1 4 3 7 5 6 8 2] [9 0]\n",
      "[6 8 1 7 5 0 2 3] [4 9]\n"
     ]
    }
   ],
   "source": [
    "target = np.array([0] * 5 + [1] * 5)\n",
    "print(target)\n",
    "\n",
    "sss = model_selection.StratifiedShuffleSplit(n_splits=4, test_size=0.2)\n",
    "for train_indices, test_indices in sss.split(X, target):\n",
    "    print(train_indices, test_indices)"
   ]
  },
  {
   "cell_type": "markdown",
   "id": "356d5c12-c89b-43a6-943c-1b42048a57f8",
   "metadata": {},
   "source": [
    "#### Leave-One-Out"
   ]
  },
  {
   "cell_type": "code",
   "execution_count": 16,
   "id": "46d64162-7ebc-43fa-8ed7-19d044153601",
   "metadata": {},
   "outputs": [
    {
     "name": "stdout",
     "output_type": "stream",
     "text": [
      "[1 2 3 4 5 6 7 8 9] [0]\n",
      "[0 2 3 4 5 6 7 8 9] [1]\n",
      "[0 1 3 4 5 6 7 8 9] [2]\n",
      "[0 1 2 4 5 6 7 8 9] [3]\n",
      "[0 1 2 3 5 6 7 8 9] [4]\n",
      "[0 1 2 3 4 6 7 8 9] [5]\n",
      "[0 1 2 3 4 5 7 8 9] [6]\n",
      "[0 1 2 3 4 5 6 8 9] [7]\n",
      "[0 1 2 3 4 5 6 7 9] [8]\n",
      "[0 1 2 3 4 5 6 7 8] [9]\n"
     ]
    }
   ],
   "source": [
    "loo = model_selection.LeaveOneOut()\n",
    "\n",
    "for train_indices, test_index in loo.split(X):\n",
    "    print(train_indices, test_index)"
   ]
  },
  {
   "cell_type": "markdown",
   "id": "48efe518-f3df-463f-b31b-1a5c25ecce6d",
   "metadata": {},
   "source": [
    "Больше стратегий проведения кросс-валидации доступно здесь: \n",
    "http://scikit-learn.org/stable/modules/cross_validation.html#cross-validation-iterators"
   ]
  }
 ],
 "metadata": {
  "kernelspec": {
   "display_name": "Python 3 (ipykernel)",
   "language": "python",
   "name": "python3"
  },
  "language_info": {
   "codemirror_mode": {
    "name": "ipython",
    "version": 3
   },
   "file_extension": ".py",
   "mimetype": "text/x-python",
   "name": "python",
   "nbconvert_exporter": "python",
   "pygments_lexer": "ipython3",
   "version": "3.9.7"
  },
  "toc-showcode": false
 },
 "nbformat": 4,
 "nbformat_minor": 5
}
