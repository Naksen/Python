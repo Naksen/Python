{
 "cells": [
  {
   "cell_type": "code",
   "execution_count": 20,
   "id": "e91be52c-ab62-40b8-9a71-7bc17d8e7d40",
   "metadata": {},
   "outputs": [],
   "source": [
    "from matplotlib.colors import ListedColormap\n",
    "from sklearn import model_selection, datasets, metrics, tree, ensemble\n",
    "\n",
    "import numpy as np"
   ]
  },
  {
   "cell_type": "code",
   "execution_count": 6,
   "id": "563e6fc1-6bfc-42aa-9279-2c2a87925a2b",
   "metadata": {},
   "outputs": [],
   "source": [
    "digits = datasets.load_digits()"
   ]
  },
  {
   "cell_type": "code",
   "execution_count": 8,
   "id": "c2ff161d-cfdc-4fc8-b9cc-28306cf2b3fc",
   "metadata": {},
   "outputs": [
    {
     "data": {
      "text/plain": [
       "(1797, 64)"
      ]
     },
     "execution_count": 8,
     "metadata": {},
     "output_type": "execute_result"
    }
   ],
   "source": [
    "digits.data.shape"
   ]
  },
  {
   "cell_type": "code",
   "execution_count": 10,
   "id": "8d0a39e4-5913-466f-afde-c958a5fa7ac7",
   "metadata": {},
   "outputs": [
    {
     "data": {
      "text/plain": [
       "(1797,)"
      ]
     },
     "execution_count": 10,
     "metadata": {},
     "output_type": "execute_result"
    }
   ],
   "source": [
    "digits.target.shape"
   ]
  },
  {
   "cell_type": "code",
   "execution_count": 13,
   "id": "e867a4d6-cc3f-457a-864d-fc46f0cea603",
   "metadata": {},
   "outputs": [],
   "source": [
    "clf = tree.DecisionTreeClassifier()"
   ]
  },
  {
   "cell_type": "code",
   "execution_count": 18,
   "id": "75eccb97-f5f0-4101-8f9c-c090a87d9d9f",
   "metadata": {},
   "outputs": [],
   "source": [
    "answer_1 = model_selection.cross_val_score(clf, digits.data, digits.target, cv=10).mean()"
   ]
  },
  {
   "cell_type": "code",
   "execution_count": 19,
   "id": "b487cdb7-1135-48f2-90e3-8847c99130a8",
   "metadata": {},
   "outputs": [
    {
     "data": {
      "text/plain": [
       "0.8280198634388578"
      ]
     },
     "execution_count": 19,
     "metadata": {},
     "output_type": "execute_result"
    }
   ],
   "source": [
    "answer_1"
   ]
  },
  {
   "cell_type": "code",
   "execution_count": 23,
   "id": "e185cc86-be91-48c6-98b5-b29a2c541da2",
   "metadata": {},
   "outputs": [],
   "source": [
    "bagging_clf = ensemble.BaggingClassifier(n_estimators=100) \n",
    "answer_2 = model_selection.cross_val_score(bagging_clf, digits.data, digits.target, cv=10).mean()"
   ]
  },
  {
   "cell_type": "code",
   "execution_count": 24,
   "id": "5b9050b6-2c66-4061-8c1c-5201d53913f7",
   "metadata": {},
   "outputs": [
    {
     "data": {
      "text/plain": [
       "0.9215021725636252"
      ]
     },
     "execution_count": 24,
     "metadata": {},
     "output_type": "execute_result"
    }
   ],
   "source": [
    "answer_2"
   ]
  },
  {
   "cell_type": "code",
   "execution_count": 27,
   "id": "cfc2e0b7-8d6c-4e44-abc8-5183ca653eaf",
   "metadata": {},
   "outputs": [],
   "source": [
    "bagging_clf = ensemble.BaggingClassifier(n_estimators=100, max_features=8) \n",
    "answer_3 = model_selection.cross_val_score(bagging_clf, digits.data, digits.target, cv=10).mean()"
   ]
  },
  {
   "cell_type": "code",
   "execution_count": 28,
   "id": "4bf64442-ad8b-4676-b834-4b8d047369bc",
   "metadata": {},
   "outputs": [
    {
     "data": {
      "text/plain": [
       "0.9304407200496586"
      ]
     },
     "execution_count": 28,
     "metadata": {},
     "output_type": "execute_result"
    }
   ],
   "source": [
    "answer_3"
   ]
  },
  {
   "cell_type": "code",
   "execution_count": 39,
   "id": "a53cd0eb-95d7-4c29-a04a-a516ba06bed4",
   "metadata": {},
   "outputs": [],
   "source": [
    "bagging_clf = ensemble.BaggingClassifier(tree.DecisionTreeClassifier(max_features='sqrt'), n_estimators=100)\n",
    "answer_4 = model_selection.cross_val_score(bagging_clf, digits.data, digits.target, cv=10, n_jobs=4).mean()"
   ]
  },
  {
   "cell_type": "code",
   "execution_count": 40,
   "id": "c695cd21-acd1-43d7-affd-776694eecc0d",
   "metadata": {},
   "outputs": [
    {
     "data": {
      "text/plain": [
       "0.9476753569211669"
      ]
     },
     "execution_count": 40,
     "metadata": {},
     "output_type": "execute_result"
    }
   ],
   "source": [
    "answer_4"
   ]
  },
  {
   "cell_type": "code",
   "execution_count": 37,
   "id": "c84097c7-5fb4-4cde-8bb0-195fb6adb815",
   "metadata": {},
   "outputs": [],
   "source": [
    "random_forest = ensemble.RandomForestClassifier(n_estimators=100)\n",
    "score = model_selection.cross_val_score(random_forest, digits.data, digits.target, cv=10, n_jobs=4).mean()"
   ]
  },
  {
   "cell_type": "code",
   "execution_count": 38,
   "id": "6f1c806e-2da7-4bab-8a3f-8c11afa57802",
   "metadata": {},
   "outputs": [
    {
     "data": {
      "text/plain": [
       "0.9499006828057107"
      ]
     },
     "execution_count": 38,
     "metadata": {},
     "output_type": "execute_result"
    }
   ],
   "source": [
    "score"
   ]
  },
  {
   "cell_type": "code",
   "execution_count": 41,
   "id": "2fddfc1a-f4f8-4aa0-becb-fc249579b1eb",
   "metadata": {},
   "outputs": [
    {
     "name": "stdout",
     "output_type": "stream",
     "text": [
      "[0.9098386095592801, 0.9287740533829918, 0.941018001241465, 0.9304345127250155, 0.943234016139044, 0.9409931719428926, 0.943234016139044, 0.9426815642458101, 0.9499006828057107, 0.9471198013656114, 0.9499224084419614, 0.9415704531346989, 0.9448882681564245, 0.9476598386095592, 0.9498944754810676, 0.9482371198013656, 0.9454531346989447, 0.9465642458100557, 0.9526908752327745]\n"
     ]
    }
   ],
   "source": [
    "n_estimators = np.arange(10, 101, 5)\n",
    "score = []\n",
    "for n in n_estimators:\n",
    "    random_forest = ensemble.RandomForestClassifier(n_estimators=n)\n",
    "    score.append(model_selection.cross_val_score(random_forest, digits.data, digits.target, cv=10, n_jobs=4).mean())\n",
    "\n",
    "print(score)"
   ]
  },
  {
   "cell_type": "code",
   "execution_count": 45,
   "id": "c59b045f-b5b9-41e2-be61-06b8e8b56c12",
   "metadata": {},
   "outputs": [
    {
     "name": "stdout",
     "output_type": "stream",
     "text": [
      "Populating the interactive namespace from numpy and matplotlib\n"
     ]
    }
   ],
   "source": [
    "%pylab inline"
   ]
  },
  {
   "cell_type": "code",
   "execution_count": 49,
   "id": "348dc6f9-e7dc-409a-9633-b070a65fdaed",
   "metadata": {},
   "outputs": [
    {
     "data": {
      "text/plain": [
       "Text(0.5, 0, 'n_estimators')"
      ]
     },
     "execution_count": 49,
     "metadata": {},
     "output_type": "execute_result"
    },
    {
     "data": {
      "image/png": "[encoded data removed]",
      "text/plain": [
       "<Figure size 432x288 with 1 Axes>"
      ]
     },
     "metadata": {
      "needs_background": "light"
     },
     "output_type": "display_data"
    }
   ],
   "source": [
    "pylab.grid(True)\n",
    "pylab.plot(n_estimators, score)\n",
    "pylab.ylabel(\"score\")\n",
    "pylab.xlabel(\"n_estimators\")"
   ]
  },
  {
   "cell_type": "code",
   "execution_count": 50,
   "id": "9126e6a3-30e1-41a7-ac8c-4a1b1241268f",
   "metadata": {},
   "outputs": [
    {
     "name": "stdout",
     "output_type": "stream",
     "text": [
      "[0.9560397268777157, 0.9443234016139044, 0.9471042830540037, 0.9415363128491621, 0.939872749844817, 0.933187461204221, 0.9281843575418994, 0.9253910614525139]\n"
     ]
    }
   ],
   "source": [
    "max_features = np.arange(8, 65, 8)\n",
    "score = []\n",
    "for n in max_features:\n",
    "    random_forest = ensemble.RandomForestClassifier(max_features=n)\n",
    "    score.append(model_selection.cross_val_score(random_forest, digits.data, digits.target, cv=10, n_jobs=4).mean())\n",
    "\n",
    "print(score)"
   ]
  },
  {
   "cell_type": "code",
   "execution_count": 51,
   "id": "05910755-fb4a-4e99-8929-4523ad4205d7",
   "metadata": {},
   "outputs": [
    {
     "data": {
      "text/plain": [
       "Text(0.5, 0, 'max_features')"
      ]
     },
     "execution_count": 51,
     "metadata": {},
     "output_type": "execute_result"
    },
    {
     "data": {
      "image/png": "[encoded data removed]",
      "text/plain": [
       "<Figure size 432x288 with 1 Axes>"
      ]
     },
     "metadata": {
      "needs_background": "light"
     },
     "output_type": "display_data"
    }
   ],
   "source": [
    "pylab.grid(True)\n",
    "pylab.plot(max_features, score)\n",
    "pylab.ylabel(\"score\")\n",
    "pylab.xlabel(\"max_features\")"
   ]
  },
  {
   "cell_type": "code",
   "execution_count": 52,
   "id": "cb094bc8-bb20-4fa6-bedc-30f91c682a12",
   "metadata": {},
   "outputs": [
    {
     "name": "stdout",
     "output_type": "stream",
     "text": [
      "[0.7835195530726258, 0.883140906269398, 0.9309621353196771, 0.936542520173805, 0.9460117939168218, 0.9460086902545003]\n"
     ]
    }
   ],
   "source": [
    "max_depth = np.arange(2, 14, 2)\n",
    "score = []\n",
    "for n in max_depth:\n",
    "    random_forest = ensemble.RandomForestClassifier(max_depth=n)\n",
    "    score.append(model_selection.cross_val_score(random_forest, digits.data, digits.target, cv=10, n_jobs=4).mean())\n",
    "\n",
    "print(score)"
   ]
  },
  {
   "cell_type": "code",
   "execution_count": 53,
   "id": "29bbbc8a-c70b-4f16-b0d6-9811c3b969d9",
   "metadata": {},
   "outputs": [
    {
     "data": {
      "text/plain": [
       "Text(0.5, 0, 'max_depth')"
      ]
     },
     "execution_count": 53,
     "metadata": {},
     "output_type": "execute_result"
    },
    {
     "data": {
      "image/png": "[encoded data removed]",
      "text/plain": [
       "<Figure size 432x288 with 1 Axes>"
      ]
     },
     "metadata": {
      "needs_background": "light"
     },
     "output_type": "display_data"
    }
   ],
   "source": [
    "pylab.grid(True)\n",
    "pylab.plot(max_depth, score)\n",
    "pylab.ylabel(\"score\")\n",
    "pylab.xlabel(\"max_depth\")"
   ]
  },
  {
   "cell_type": "code",
   "execution_count": null,
   "id": "d0482b34-aa1e-48ab-ae6a-3cee022b01a3",
   "metadata": {},
   "outputs": [],
   "source": [
    "#answer_5 =2 3 4 7 "
   ]
  }
 ],
 "metadata": {
  "kernelspec": {
   "display_name": "Python 3 (ipykernel)",
   "language": "python",
   "name": "python3"
  },
  "language_info": {
   "codemirror_mode": {
    "name": "ipython",
    "version": 3
   },
   "file_extension": ".py",
   "mimetype": "text/x-python",
   "name": "python",
   "nbconvert_exporter": "python",
   "pygments_lexer": "ipython3",
   "version": "3.9.7"
  }
 },
 "nbformat": 4,
 "nbformat_minor": 5
}
