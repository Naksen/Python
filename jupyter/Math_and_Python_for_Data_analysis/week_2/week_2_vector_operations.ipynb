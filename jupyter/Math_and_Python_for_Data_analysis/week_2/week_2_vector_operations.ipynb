{
 "cells": [
  {
   "cell_type": "markdown",
   "id": "90f271a9",
   "metadata": {},
   "source": [
    "# NumPy: векторы и операции над ними\n",
    "---"
   ]
  },
  {
   "cell_type": "code",
   "execution_count": 2,
   "id": "23ac5fdb",
   "metadata": {},
   "outputs": [],
   "source": [
    "import numpy as np"
   ]
  },
  {
   "cell_type": "markdown",
   "id": "fc56a245",
   "metadata": {},
   "source": [
    "## 1.Создание векторов"
   ]
  },
  {
   "cell_type": "code",
   "execution_count": 5,
   "id": "f4c24a52",
   "metadata": {},
   "outputs": [
    {
     "name": "stdout",
     "output_type": "stream",
     "text": [
      "Вектор:\n",
      " [1 2 3 4]\n"
     ]
    }
   ],
   "source": [
    "a = np.array([1, 2, 3, 4])\n",
    "print('Вектор:\\n', a)"
   ]
  },
  {
   "cell_type": "code",
   "execution_count": 6,
   "id": "fd7336c2",
   "metadata": {},
   "outputs": [
    {
     "name": "stdout",
     "output_type": "stream",
     "text": [
      "Вещественный вектор:\n",
      " [1. 2. 3. 4. 5.]\n"
     ]
    }
   ],
   "source": [
    "b = np.array([1, 2, 3, 4, 5], dtype=float)\n",
    "print('Вещественный вектор:\\n', b)"
   ]
  },
  {
   "cell_type": "code",
   "execution_count": 7,
   "id": "f1c0d689",
   "metadata": {},
   "outputs": [
    {
     "name": "stdout",
     "output_type": "stream",
     "text": [
      "Булевский вектор:\n",
      " [ True False  True]\n"
     ]
    }
   ],
   "source": [
    "c = np.array([True, False, True], dtype=bool)\n",
    "print('Булевский вектор:\\n', c)"
   ]
  },
  {
   "cell_type": "code",
   "execution_count": 9,
   "id": "e41f6213",
   "metadata": {},
   "outputs": [
    {
     "name": "stdout",
     "output_type": "stream",
     "text": [
      "Тип булевоского вектора:\n",
      " bool\n"
     ]
    }
   ],
   "source": [
    "print('Тип булевоского вектора:\\n', c.dtype)"
   ]
  },
  {
   "cell_type": "code",
   "execution_count": 11,
   "id": "5ba71368",
   "metadata": {},
   "outputs": [
    {
     "name": "stdout",
     "output_type": "stream",
     "text": [
      "Вектор чисел от 10 до 20 с шагом 2:\n",
      " [10 12 14 16 18]\n"
     ]
    }
   ],
   "source": [
    "d = np.arange(start=10, stop=20, step=2)\n",
    "print('Вектор чисел от 10 до 20 с шагом 2:\\n', d)"
   ]
  },
  {
   "cell_type": "code",
   "execution_count": 12,
   "id": "f73a8045",
   "metadata": {},
   "outputs": [
    {
     "name": "stdout",
     "output_type": "stream",
     "text": [
      "Вещественный вектор чисел от 0 до 1 с шагом 0.3:\n",
      " [0.  0.3 0.6 0.9]\n"
     ]
    }
   ],
   "source": [
    "f = np.arange(start=0, stop=1, step=0.3, dtype=float)\n",
    "print('Вещественный вектор чисел от 0 до 1 с шагом 0.3:\\n', f)"
   ]
  },
  {
   "cell_type": "code",
   "execution_count": 13,
   "id": "a62257fd",
   "metadata": {},
   "outputs": [
    {
     "name": "stdout",
     "output_type": "stream",
     "text": [
      "1\n"
     ]
    }
   ],
   "source": [
    "print(c.ndim) # размерность"
   ]
  },
  {
   "cell_type": "code",
   "execution_count": 21,
   "id": "b1d7af18",
   "metadata": {},
   "outputs": [
    {
     "name": "stdout",
     "output_type": "stream",
     "text": [
      "(3,)\n"
     ]
    }
   ],
   "source": [
    "print(c.shape) # shape фактически задает длину вектора"
   ]
  },
  {
   "cell_type": "markdown",
   "id": "5769f9f3",
   "metadata": {},
   "source": [
    "## Операции над векторами"
   ]
  },
  {
   "cell_type": "code",
   "execution_count": 16,
   "id": "c27e5596",
   "metadata": {},
   "outputs": [
    {
     "name": "stdout",
     "output_type": "stream",
     "text": [
      "Вектор a: [1 2 3]\n",
      "Вектор b: [6 5 4]\n",
      "Число k: 2\n"
     ]
    }
   ],
   "source": [
    "a = np.array([1, 2, 3])\n",
    "b = np.array([6, 5, 4])\n",
    "k = 2\n",
    "\n",
    "print('Вектор a:', a)\n",
    "print('Вектор b:', b)\n",
    "print('Число k:', k)"
   ]
  },
  {
   "cell_type": "code",
   "execution_count": 17,
   "id": "e3f88978",
   "metadata": {},
   "outputs": [
    {
     "name": "stdout",
     "output_type": "stream",
     "text": [
      "Сумма a и b:\n",
      " [7 7 7]\n"
     ]
    }
   ],
   "source": [
    "print('Сумма a и b:\\n', a+b)"
   ]
  },
  {
   "cell_type": "code",
   "execution_count": 18,
   "id": "5c84a0e8",
   "metadata": {},
   "outputs": [
    {
     "name": "stdout",
     "output_type": "stream",
     "text": [
      "Разность a и b:\n",
      " [-5 -3 -1]\n"
     ]
    }
   ],
   "source": [
    "print('Разность a и b:\\n', a - b)"
   ]
  },
  {
   "cell_type": "code",
   "execution_count": 19,
   "id": "0a34744b",
   "metadata": {},
   "outputs": [
    {
     "name": "stdout",
     "output_type": "stream",
     "text": [
      "Покоординатное умножение a и b:\n",
      " [ 6 10 12]\n"
     ]
    }
   ],
   "source": [
    "print('Покоординатное умножение a и b:\\n', a * b)"
   ]
  },
  {
   "cell_type": "code",
   "execution_count": 20,
   "id": "519b44e4",
   "metadata": {},
   "outputs": [
    {
     "name": "stdout",
     "output_type": "stream",
     "text": [
      "Умножение вектора на число (осуществляется покоординатно):\n",
      " [2 4 6]\n"
     ]
    }
   ],
   "source": [
    "print('Умножение вектора на число (осуществляется покоординатно):\\n', k * a)"
   ]
  },
  {
   "cell_type": "markdown",
   "id": "f5b939a3",
   "metadata": {},
   "source": [
    "## 3.Нормы векторов"
   ]
  },
  {
   "cell_type": "markdown",
   "id": "dd98b1a5",
   "metadata": {},
   "source": [
    "### p-норма"
   ]
  },
  {
   "cell_type": "markdown",
   "id": "e8655517",
   "metadata": {},
   "source": [
    "p-норма (норма Гёльдера) для вектора $x = (x_{1}, \\dots, x_{n}) \\in \\mathbb{R}^{n}$ вычисляется по формуле:\n",
    "\n",
    "$$\n",
    "\\left\\Vert x \\right\\Vert_{p} = \\left( \\sum_{i=1}^n \\left| x_{i} \\right|^{p} \\right)^{1 / p},~p \\geq 1.\n",
    "$$"
   ]
  },
  {
   "cell_type": "markdown",
   "id": "d96263af",
   "metadata": {},
   "source": [
    "В частных случаях при:\n",
    "* $p = 1$ получаем $\\ell_{1}$ норму\n",
    "* $p = 2$ получаем $\\ell_{2}$ норму"
   ]
  },
  {
   "cell_type": "code",
   "execution_count": 24,
   "id": "441a53c0",
   "metadata": {},
   "outputs": [],
   "source": [
    "from numpy.linalg import norm"
   ]
  },
  {
   "cell_type": "markdown",
   "id": "21ca2482",
   "metadata": {},
   "source": [
    "### $\\ell_{1}$ норма"
   ]
  },
  {
   "cell_type": "markdown",
   "id": "3557e34a",
   "metadata": {},
   "source": [
    "$\\ell_{1}$ норма \n",
    "(также известная как манхэттенское расстояние)\n",
    "для вектора $x = (x_{1}, \\dots, x_{n}) \\in \\mathbb{R}^{n}$ вычисляется по формуле:\n",
    "\n",
    "$$\n",
    " \\left\\Vert x \\right\\Vert_{1} = \\sum_{i=1}^n \\left| x_{i} \\right|.\n",
    "$$"
   ]
  },
  {
   "cell_type": "markdown",
   "id": "2a0e7c06",
   "metadata": {},
   "source": [
    "Ей в функции __`numpy.linalg.norm(x, ord=None, ...)`__ соответствует параметр __`ord=1`__."
   ]
  },
  {
   "cell_type": "code",
   "execution_count": 25,
   "id": "1f5f2555",
   "metadata": {},
   "outputs": [
    {
     "name": "stdout",
     "output_type": "stream",
     "text": [
      "Вектор a: [ 1  2 -3]\n"
     ]
    }
   ],
   "source": [
    "a = np.array([1, 2, -3])\n",
    "print('Вектор a:', a)\n"
   ]
  },
  {
   "cell_type": "code",
   "execution_count": 26,
   "id": "6a2a7192",
   "metadata": {},
   "outputs": [
    {
     "name": "stdout",
     "output_type": "stream",
     "text": [
      "L1 норма вектора a:\n",
      " 6.0\n"
     ]
    }
   ],
   "source": [
    "print('L1 норма вектора a:\\n', norm(a, ord=1))"
   ]
  },
  {
   "cell_type": "markdown",
   "id": "18cf481b",
   "metadata": {},
   "source": [
    "### $\\ell_{2}$ норма"
   ]
  },
  {
   "cell_type": "markdown",
   "id": "c43f8797",
   "metadata": {},
   "source": [
    "$\\ell_{2}$ норма (также известная как евклидова норма)\n",
    "для вектора $x = (x_{1}, \\dots, x_{n}) \\in \\mathbb{R}^{n}$ вычисляется по формуле:\n",
    "\n",
    "$$\n",
    " \\left\\Vert x \\right\\Vert_{2} = \\sqrt{\\sum_{i=1}^n \\left( x_{i} \\right)^2}.\n",
    "$$"
   ]
  },
  {
   "cell_type": "markdown",
   "id": "13ca7619",
   "metadata": {},
   "source": [
    "Ей в функции __`numpy.linalg.norm(x, ord=None, ...)`__ соответствует параметр __`ord=2`__."
   ]
  },
  {
   "cell_type": "code",
   "execution_count": 27,
   "id": "c2437a45",
   "metadata": {},
   "outputs": [
    {
     "name": "stdout",
     "output_type": "stream",
     "text": [
      "L2 норма вектора a:\n",
      " 3.7416573867739413\n"
     ]
    }
   ],
   "source": [
    "print('L2 норма вектора a:\\n', norm(a, ord=2))"
   ]
  },
  {
   "cell_type": "markdown",
   "id": "9831b89e",
   "metadata": {},
   "source": [
    "## 4.Расстояние между векторами"
   ]
  },
  {
   "cell_type": "markdown",
   "id": "88719c79",
   "metadata": {},
   "source": [
    "Для двух векторов $x = (x_{1}, \\dots, x_{n}) \\in \\mathbb{R}^{n}$ и $y = (y_{1}, \\dots, y_{n}) \\in \\mathbb{R}^{n}$ $\\ell_{1}$ и $\\ell_{2}$ раccтояния вычисляются по следующим формулам соответственно:\n",
    "\n",
    "$$\n",
    " \\rho_{1}\\left( x, y \\right) = \\left\\Vert x - y \\right\\Vert_{1} = \\sum_{i=1}^n \\left| x_{i} - y_{i} \\right|\n",
    "$$\n",
    "\n",
    "$$\n",
    " \\rho_{2}\\left( x, y \\right) = \\left\\Vert x - y \\right\\Vert_{2} = \n",
    " \\sqrt{\\sum_{i=1}^n \\left( x_{i} - y_{i} \\right)^2}.\n",
    "$$"
   ]
  },
  {
   "cell_type": "code",
   "execution_count": 29,
   "id": "25e7e09e",
   "metadata": {},
   "outputs": [
    {
     "name": "stdout",
     "output_type": "stream",
     "text": [
      "Вектор a: [ 1  2 -3]\n",
      "Вектор b: [-4  3  8]\n"
     ]
    }
   ],
   "source": [
    "a = np.array([1, 2, -3])\n",
    "b = np.array([-4, 3, 8])\n",
    "print('Вектор a:', a)\n",
    "print('Вектор b:', b)"
   ]
  },
  {
   "cell_type": "code",
   "execution_count": 30,
   "id": "8a8a5628",
   "metadata": {},
   "outputs": [
    {
     "name": "stdout",
     "output_type": "stream",
     "text": [
      "L1 расстояние между векторами a и b:\n",
      " 17.0\n"
     ]
    }
   ],
   "source": [
    "print('L1 расстояние между векторами a и b:\\n', norm(a - b, ord=1))"
   ]
  },
  {
   "cell_type": "code",
   "execution_count": 31,
   "id": "9c34434d",
   "metadata": {},
   "outputs": [
    {
     "name": "stdout",
     "output_type": "stream",
     "text": [
      "L2 расстояние между векторами a и b:\n",
      " 12.12435565298214\n"
     ]
    }
   ],
   "source": [
    "print('L2 расстояние между векторами a и b:\\n', norm(b - a, ord=2))"
   ]
  },
  {
   "cell_type": "markdown",
   "id": "c1fcf3fa",
   "metadata": {},
   "source": [
    "Также расстояние между векторами можно посчитать с помощью функции __`scipy.spatial.distance.cdist(XA, XB, metric='euclidean', p=2, ...)`__ из модуля `SciPy`, предназначенного для выполнения научных и инженерных расчётов. "
   ]
  },
  {
   "cell_type": "code",
   "execution_count": 32,
   "id": "5af678f0",
   "metadata": {},
   "outputs": [],
   "source": [
    "from scipy.spatial.distance import cdist"
   ]
  },
  {
   "cell_type": "markdown",
   "id": "30d48c9c",
   "metadata": {},
   "source": [
    "__`scipy.spatial.distance.cdist(...)`__ требует, чтобы размерность __`XA`__ и __`XB`__ была как минимум двумерная. По этой причине для использования этой функции необходимо преобразовать _векторы_ к _вектор-строкам_. "
   ]
  },
  {
   "cell_type": "code",
   "execution_count": 33,
   "id": "754e91a6",
   "metadata": {},
   "outputs": [
    {
     "name": "stdout",
     "output_type": "stream",
     "text": [
      "Вектор a: [ 6  3 -5]\n",
      "Его размерность: (3,)\n",
      "Вектор a: [-1  0  7]\n",
      "Его размерность: (3,)\n"
     ]
    }
   ],
   "source": [
    "a = np.array([6, 3, -5])\n",
    "b = np.array([-1, 0, 7])\n",
    "print('Вектор a:', a)\n",
    "print('Его размерность:', a.shape)\n",
    "print('Вектор a:', b)\n",
    "print('Его размерность:', b.shape)"
   ]
  },
  {
   "cell_type": "code",
   "execution_count": 35,
   "id": "4dfacd7a",
   "metadata": {},
   "outputs": [
    {
     "name": "stdout",
     "output_type": "stream",
     "text": [
      "После применения метода reshape:\n",
      "\n",
      "Вектор-строка a: [[ 6  3 -5]]\n",
      "Его размерность: (1, 3)\n",
      "Вектор-строка a: [[-1  0  7]]\n",
      "Его размерность: (1, 3)\n"
     ]
    }
   ],
   "source": [
    "a = a.reshape((1,3))\n",
    "b = b.reshape((1,3))\n",
    "print('После применения метода reshape:\\n')\n",
    "print('Вектор-строка a:', a)\n",
    "print('Его размерность:', a.shape)\n",
    "print('Вектор-строка a:', b)\n",
    "print('Его размерность:', b.shape)"
   ]
  },
  {
   "cell_type": "code",
   "execution_count": 38,
   "id": "8c76e790",
   "metadata": {},
   "outputs": [
    {
     "name": "stdout",
     "output_type": "stream",
     "text": [
      "Манхэттенское расстояние между a и b (через cdist): [[22.]]\n"
     ]
    }
   ],
   "source": [
    "print('Манхэттенское расстояние между a и b (через cdist):', cdist(a,  b, metric='cityblock'))"
   ]
  },
  {
   "cell_type": "code",
   "execution_count": 39,
   "id": "7f36a979",
   "metadata": {},
   "outputs": [
    {
     "name": "stdout",
     "output_type": "stream",
     "text": [
      "Вектор d: [  3   0   8   9 -10]\n",
      "Его размерность: (5,)\n"
     ]
    }
   ],
   "source": [
    "d = np.array([3, 0, 8, 9, -10])\n",
    "print('Вектор d:', d)\n",
    "print('Его размерность:', d.shape)"
   ]
  },
  {
   "cell_type": "code",
   "execution_count": 41,
   "id": "f5683934",
   "metadata": {},
   "outputs": [
    {
     "name": "stdout",
     "output_type": "stream",
     "text": [
      "Вектор d с newaxis --> вектор-строка:\n",
      " [[  3   0   8   9 -10]]\n",
      "Полученная размерность: (1, 5)\n",
      "Вектор d с newaxis --> веткор-столбец:\n",
      " [[  3]\n",
      " [  0]\n",
      " [  8]\n",
      " [  9]\n",
      " [-10]]\n",
      "Полученная размерность: (5, 1)\n"
     ]
    }
   ],
   "source": [
    "# Добавление фиктивных осей\n",
    "print('Вектор d с newaxis --> вектор-строка:\\n', d[np.newaxis, :])\n",
    "print('Полученная размерность:', d[np.newaxis, :].shape)\n",
    "\n",
    "print('Вектор d с newaxis --> веткор-столбец:\\n', d[:, np.newaxis])\n",
    "print('Полученная размерность:', d[:, np.newaxis].shape)"
   ]
  },
  {
   "cell_type": "code",
   "execution_count": 42,
   "id": "cddc8fcf",
   "metadata": {},
   "outputs": [
    {
     "name": "stdout",
     "output_type": "stream",
     "text": [
      "Евклидово расстоние между a и b (через cdist): [[14.2126704]]\n"
     ]
    }
   ],
   "source": [
    "# Теперь считаем расстояния\n",
    "a = np.array([6, 3, -5])\n",
    "b = np.array([-1, 0, 7])\n",
    "print('Евклидово расстоние между a и b (через cdist):', cdist(a[np.newaxis, :], b[np.newaxis, :], metric='euclidean'))"
   ]
  },
  {
   "cell_type": "markdown",
   "id": "6b5b9b34",
   "metadata": {},
   "source": [
    "Эта функция также позволяет вычислять попарные расстояния между множествами векторов. Например, пусть у нас имеется матрица размера $m_{A} \\times n$. Мы можем рассматривать ее как описание некоторых $m_{A}$ наблюдений в $n$-мерном пространстве. Пусть также имеется еще одна аналогичная матрица размера $m_{B} \\times n$, где  $m_{B}$ векторов в том же $n$-мерном пространстве. Часто необходимо посчитать попарные расстояния между векторами первого и второго множеств. В этом случае можно пользоваться функцией __`scipy.spatial.distance.cdist(XA, XB, metric='euclidean', p=2, ...)`__, где в качестве __`XA, XB`__ необходимо передать две описанные матрицы. Функция возвращает матрицу попарных расстояний размера $m_{A} \\times m_{B}$, где элемент матрицы на $[i, j]$-ой позиции равен расстоянию между $i$-тым вектором первого множества и $j$-ым вектором второго множества. \n",
    "\n",
    "В данном случае эта функция предподчительнее __`numpy.linalg.norm(...)`__, так как она вычисляет попарные расстояния быстрее и эффективнее. "
   ]
  },
  {
   "cell_type": "markdown",
   "id": "d2f0f8f6",
   "metadata": {},
   "source": [
    "## 5.Скалярное произведение и угол между векторами"
   ]
  },
  {
   "cell_type": "code",
   "execution_count": 46,
   "id": "3a1dfca6",
   "metadata": {},
   "outputs": [
    {
     "name": "stdout",
     "output_type": "stream",
     "text": [
      "Вектор a: [ 0  5 -1]\n",
      "Вектор b: [-4  9  3]\n"
     ]
    }
   ],
   "source": [
    "a = np.array([0, 5, -1])\n",
    "b = np.array([-4, 9, 3])\n",
    "print('Вектор a:', a)\n",
    "print('Вектор b:', b)"
   ]
  },
  {
   "cell_type": "markdown",
   "id": "be6e84c7",
   "metadata": {},
   "source": [
    "Длиной вектора $x = (x_{1}, \\dots, x_{n}) \\in \\mathbb{R}^{n}$ называется квадратный корень из скалярного произведения, то есть длина равна евклидовой норме вектора:\n",
    "\n",
    "$$\n",
    "\\left| x \\right| = \\sqrt{\\langle x, x \\rangle} = \\sqrt{\\sum_{i=1}^n x_{i}^2} =  \\left\\Vert x \\right\\Vert_{2}.\n",
    "$$"
   ]
  },
  {
   "cell_type": "markdown",
   "id": "37360268",
   "metadata": {},
   "source": [
    "Теперь, когда мы знаем расстояние между двумя ненулевыми векторами и их длины, мы можем вычислить угол между ними через скалярное произведение:\n",
    "\n",
    "$$\n",
    "\\langle x, y \\rangle = \\left| x \\right| | y | \\cos(\\alpha)\n",
    "\\implies \\cos(\\alpha) = \\frac{\\langle x, y \\rangle}{\\left|| x |\\right| || y ||},\n",
    "$$\n",
    "\n",
    "где $\\alpha \\in [0, \\pi]$ — угол между векторами $x$ и $y$."
   ]
  },
  {
   "cell_type": "code",
   "execution_count": 47,
   "id": "ebf87d58",
   "metadata": {},
   "outputs": [
    {
     "name": "stdout",
     "output_type": "stream",
     "text": [
      "Косинус угла между a и b: 0.8000362836474323\n",
      "Сам угол: 0.6434406336093618\n"
     ]
    }
   ],
   "source": [
    "cos_angle = np.dot(a, b) / norm(a) / norm(b)\n",
    "print('Косинус угла между a и b:', cos_angle)\n",
    "print('Сам угол:', np.arccos(cos_angle))"
   ]
  }
 ],
 "metadata": {
  "kernelspec": {
   "display_name": "Python 3 (ipykernel)",
   "language": "python",
   "name": "python3"
  },
  "language_info": {
   "codemirror_mode": {
    "name": "ipython",
    "version": 3
   },
   "file_extension": ".py",
   "mimetype": "text/x-python",
   "name": "python",
   "nbconvert_exporter": "python",
   "pygments_lexer": "ipython3",
   "version": "3.9.7"
  }
 },
 "nbformat": 4,
 "nbformat_minor": 5
}
