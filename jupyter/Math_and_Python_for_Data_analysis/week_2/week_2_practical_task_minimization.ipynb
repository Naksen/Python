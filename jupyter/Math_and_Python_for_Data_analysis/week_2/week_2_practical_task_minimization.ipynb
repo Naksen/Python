{
 "cells": [
  {
   "cell_type": "code",
   "execution_count": 8,
   "id": "b6b0dbc4",
   "metadata": {},
   "outputs": [],
   "source": [
    "from scipy import optimize\n",
    "import numpy as np\n",
    "import math"
   ]
  },
  {
   "cell_type": "code",
   "execution_count": 15,
   "id": "7b052669",
   "metadata": {},
   "outputs": [],
   "source": [
    "def f(x):\n",
    "    return math.sin(x / 5) * math.exp(x / 10) + 5 * math.exp(-x / 2)"
   ]
  },
  {
   "cell_type": "markdown",
   "id": "588be838",
   "metadata": {},
   "source": [
    "## Задача 1. Минимизация гладкой фунцкии"
   ]
  },
  {
   "cell_type": "code",
   "execution_count": 33,
   "id": "2d2b2806",
   "metadata": {},
   "outputs": [
    {
     "name": "stdout",
     "output_type": "stream",
     "text": [
      "      fun: 1.7452682903429801\n",
      " hess_inv: array([[6.04856306]])\n",
      "      jac: array([1.90734863e-06])\n",
      "  message: 'Optimization terminated successfully.'\n",
      "     nfev: 26\n",
      "      nit: 3\n",
      "     njev: 13\n",
      "   status: 0\n",
      "  success: True\n",
      "        x: array([4.13630023])\n"
     ]
    }
   ],
   "source": [
    "print(optimize.minimize(f, 10))"
   ]
  },
  {
   "cell_type": "code",
   "execution_count": 37,
   "id": "49bff777",
   "metadata": {},
   "outputs": [
    {
     "name": "stdout",
     "output_type": "stream",
     "text": [
      "      fun: -11.898894665981311\n",
      " hess_inv: array([[123.27588322]])\n",
      "      jac: array([-1.1920929e-07])\n",
      "  message: 'Optimization terminated successfully.'\n",
      "     nfev: 42\n",
      "      nit: 2\n",
      "     njev: 21\n",
      "   status: 0\n",
      "  success: True\n",
      "        x: array([25.88019285])\n"
     ]
    }
   ],
   "source": [
    "print(optimize.minimize(f, 11)) # При выборе другого начального приближения результат изменился"
   ]
  },
  {
   "cell_type": "code",
   "execution_count": 36,
   "id": "3b34430e",
   "metadata": {},
   "outputs": [
    {
     "name": "stdout",
     "output_type": "stream",
     "text": [
      "      fun: 1.7452682903447336\n",
      " hess_inv: array([[5.98752645]])\n",
      "      jac: array([-2.04145908e-06])\n",
      "  message: 'Optimization terminated successfully.'\n",
      "     nfev: 14\n",
      "      nit: 6\n",
      "     njev: 7\n",
      "   status: 0\n",
      "  success: True\n",
      "        x: array([4.13627628])\n"
     ]
    }
   ],
   "source": [
    "print(optimize.minimize(f, 2, method='BFGS')) # BFGS - один из самых точных в большинстве случаев градиентный метод оптимизации"
   ]
  },
  {
   "cell_type": "code",
   "execution_count": 40,
   "id": "abc480d2",
   "metadata": {},
   "outputs": [
    {
     "name": "stdout",
     "output_type": "stream",
     "text": [
      "      fun: -11.898894665981313\n",
      " hess_inv: array([[1.67936744]])\n",
      "      jac: array([0.])\n",
      "  message: 'Optimization terminated successfully.'\n",
      "     nfev: 14\n",
      "      nit: 6\n",
      "     njev: 7\n",
      "   status: 0\n",
      "  success: True\n",
      "        x: array([25.88019321])\n"
     ]
    }
   ],
   "source": [
    "print(optimize.minimize(f, 30, method='BFGS'))"
   ]
  },
  {
   "cell_type": "code",
   "execution_count": 41,
   "id": "3c972278",
   "metadata": {},
   "outputs": [],
   "source": [
    "%matplotlib inline"
   ]
  },
  {
   "cell_type": "code",
   "execution_count": 50,
   "id": "adf43cc6",
   "metadata": {},
   "outputs": [],
   "source": [
    "from matplotlib import pylab as plt"
   ]
  },
  {
   "cell_type": "code",
   "execution_count": 51,
   "id": "4f5af8d1",
   "metadata": {},
   "outputs": [
    {
     "name": "stdout",
     "output_type": "stream",
     "text": [
      "[ 1.    1.01  1.02 ... 29.97 29.98 29.99]\n"
     ]
    }
   ],
   "source": [
    "x = np.arange(1, 30, 0.01)\n",
    "print(x)"
   ]
  },
  {
   "cell_type": "code",
   "execution_count": 52,
   "id": "ab6f676f",
   "metadata": {},
   "outputs": [
    {
     "data": {
      "text/plain": [
       "<function matplotlib.pyplot.show(close=None, block=None)>"
      ]
     },
     "execution_count": 52,
     "metadata": {},
     "output_type": "execute_result"
    },
    {
     "data": {
      "image/png": "[encoded data removed]",
      "text/plain": [
       "<Figure size 432x288 with 1 Axes>"
      ]
     },
     "metadata": {
      "needs_background": "light"
     },
     "output_type": "display_data"
    }
   ],
   "source": [
    "plt.plot(x,np.vectorize(f)(x))\n",
    "plt.show"
   ]
  },
  {
   "cell_type": "markdown",
   "id": "d32ab7ad",
   "metadata": {},
   "source": [
    "## Задача 2. Глобальная оптимизация"
   ]
  },
  {
   "cell_type": "code",
   "execution_count": 53,
   "id": "d45aca66",
   "metadata": {},
   "outputs": [],
   "source": [
    "from scipy import optimize\n",
    "import numpy\n",
    "import math"
   ]
  },
  {
   "cell_type": "code",
   "execution_count": 54,
   "id": "24e18d2d",
   "metadata": {},
   "outputs": [],
   "source": [
    "def f(x):\n",
    "    return math.sin(x / 5) * math.exp(x / 10) + 5 * math.exp(-x / 2)"
   ]
  },
  {
   "cell_type": "code",
   "execution_count": 61,
   "id": "3bfa8e68",
   "metadata": {},
   "outputs": [
    {
     "name": "stdout",
     "output_type": "stream",
     "text": [
      "     fun: -11.89889466598119\n",
      "     jac: array([-5.32907008e-07])\n",
      " message: 'Optimization terminated successfully.'\n",
      "    nfev: 81\n",
      "     nit: 4\n",
      " success: True\n",
      "       x: array([25.88019237])\n"
     ]
    }
   ],
   "source": [
    "print(optimize.differential_evolution(f, [(1,30)]))"
   ]
  },
  {
   "cell_type": "markdown",
   "id": "1bdc8e40",
   "metadata": {},
   "source": [
    "## Задача 3. Минимизация негладкой функии"
   ]
  },
  {
   "cell_type": "code",
   "execution_count": 62,
   "id": "e8e19a3f",
   "metadata": {},
   "outputs": [],
   "source": [
    "from scipy import optimize\n",
    "import numpy\n",
    "import math"
   ]
  },
  {
   "cell_type": "code",
   "execution_count": 63,
   "id": "27919ca7",
   "metadata": {},
   "outputs": [],
   "source": [
    "def h(x):\n",
    "    return int(f(x))"
   ]
  },
  {
   "cell_type": "code",
   "execution_count": 64,
   "id": "b5a46095",
   "metadata": {},
   "outputs": [
    {
     "name": "stdout",
     "output_type": "stream",
     "text": [
      "3\n"
     ]
    }
   ],
   "source": [
    "print(h(1.2))"
   ]
  },
  {
   "cell_type": "code",
   "execution_count": 65,
   "id": "1946240f",
   "metadata": {},
   "outputs": [
    {
     "name": "stdout",
     "output_type": "stream",
     "text": [
      "-10\n"
     ]
    }
   ],
   "source": [
    "print(h(23.5))"
   ]
  },
  {
   "cell_type": "code",
   "execution_count": 66,
   "id": "83c66016",
   "metadata": {},
   "outputs": [],
   "source": [
    "%matplotlib inline"
   ]
  },
  {
   "cell_type": "code",
   "execution_count": 67,
   "id": "3108304f",
   "metadata": {},
   "outputs": [],
   "source": [
    "from matplotlib import pyplot as plt"
   ]
  },
  {
   "cell_type": "code",
   "execution_count": 68,
   "id": "590bfed6",
   "metadata": {},
   "outputs": [],
   "source": [
    "x = np.arange(1, 30, 0.01)"
   ]
  },
  {
   "cell_type": "code",
   "execution_count": 69,
   "id": "04ce0a53",
   "metadata": {},
   "outputs": [
    {
     "data": {
      "text/plain": [
       "[<matplotlib.lines.Line2D at 0x24c771767c0>]"
      ]
     },
     "execution_count": 69,
     "metadata": {},
     "output_type": "execute_result"
    },
    {
     "data": {
      "image/png": "[encoded data removed]",
      "text/plain": [
       "<Figure size 432x288 with 1 Axes>"
      ]
     },
     "metadata": {
      "needs_background": "light"
     },
     "output_type": "display_data"
    }
   ],
   "source": [
    "plt.plot(x, np.vectorize(h)(x))"
   ]
  },
  {
   "cell_type": "code",
   "execution_count": 70,
   "id": "0bd7ecdc",
   "metadata": {},
   "outputs": [
    {
     "name": "stdout",
     "output_type": "stream",
     "text": [
      "     fun: -11.0\n",
      " message: 'Optimization terminated successfully.'\n",
      "    nfev: 122\n",
      "     nit: 7\n",
      " success: True\n",
      "       x: array([26.91092963])\n"
     ]
    }
   ],
   "source": [
    "print(optimize.differential_evolution(h, [(1,30)]))"
   ]
  },
  {
   "cell_type": "code",
   "execution_count": 75,
   "id": "1b051a13",
   "metadata": {},
   "outputs": [
    {
     "name": "stdout",
     "output_type": "stream",
     "text": [
      "      fun: -5\n",
      " hess_inv: array([[1]])\n",
      "      jac: array([0.])\n",
      "  message: 'Optimization terminated successfully.'\n",
      "     nfev: 2\n",
      "      nit: 0\n",
      "     njev: 1\n",
      "   status: 0\n",
      "  success: True\n",
      "        x: array([30.])\n"
     ]
    }
   ],
   "source": [
    "print(optimize.minimize(h, 30, method='BFGS'))"
   ]
  }
 ],
 "metadata": {
  "kernelspec": {
   "display_name": "Python 3 (ipykernel)",
   "language": "python",
   "name": "python3"
  },
  "language_info": {
   "codemirror_mode": {
    "name": "ipython",
    "version": 3
   },
   "file_extension": ".py",
   "mimetype": "text/x-python",
   "name": "python",
   "nbconvert_exporter": "python",
   "pygments_lexer": "ipython3",
   "version": "3.9.7"
  }
 },
 "nbformat": 4,
 "nbformat_minor": 5
}
